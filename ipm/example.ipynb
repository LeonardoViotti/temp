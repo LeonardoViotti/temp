{
 "cells": [
  {
   "cell_type": "markdown",
   "id": "8fcdf770-a4ea-4d09-ab48-e845b73c7ba3",
   "metadata": {},
   "source": [
    "# Simplified gas dispersion example"
   ]
  },
  {
   "cell_type": "markdown",
   "id": "a60af53c-84b9-471f-bcab-2d656b1c2e94",
   "metadata": {},
   "source": [
    "- From the data you shared, I'm comparing the receptors data with the optimal solution you found.\n",
    "- This is limited, but I would expect this to roughly align.\n",
    "- Two approaches:\n",
    "    - Simplified example\n",
    "    - Overall fitness"
   ]
  },
  {
   "cell_type": "code",
   "execution_count": 1,
   "id": "143bc0c0-4e40-4ec2-98b9-c9fb005cebd6",
   "metadata": {},
   "outputs": [],
   "source": [
    "import pandas as pd\n",
    "pd.set_option('display.float_format', lambda x: '%.5f' % x)\n",
    "import numpy as np\n",
    "np.set_printoptions(threshold=np.inf)\n",
    "np.set_printoptions(linewidth=np.inf)\n",
    "np.set_printoptions(suppress = True)\n",
    "\n",
    "import os\n",
    "import matplotlib.pyplot as plt\n",
    "\n",
    "import gas_dispersion as gas\n",
    "from utils import *\n",
    "\n",
    "DATA = '/home/leonardo/Dropbox/Work/WB/Promoged/data/ipm/'"
   ]
  },
  {
   "cell_type": "markdown",
   "id": "b4fca5b6-4b12-4be1-8f14-763f9bb2bbd8",
   "metadata": {},
   "source": [
    "## Load data"
   ]
  },
  {
   "cell_type": "markdown",
   "id": "c3e31b4c-2bf2-4587-ba13-5348f1fc2a9d",
   "metadata": {},
   "source": [
    "- Converted the data you shared in CSVs"
   ]
  },
  {
   "cell_type": "markdown",
   "id": "860f0d0b-f6cc-46ba-b1b3-178e8ef2ac96",
   "metadata": {},
   "source": [
    "Sources:"
   ]
  },
  {
   "cell_type": "code",
   "execution_count": 2,
   "id": "23d21d1b-a929-47d0-9706-e80c931de279",
   "metadata": {},
   "outputs": [
    {
     "data": {
      "text/html": [
       "<div>\n",
       "<style scoped>\n",
       "    .dataframe tbody tr th:only-of-type {\n",
       "        vertical-align: middle;\n",
       "    }\n",
       "\n",
       "    .dataframe tbody tr th {\n",
       "        vertical-align: top;\n",
       "    }\n",
       "\n",
       "    .dataframe thead th {\n",
       "        text-align: right;\n",
       "    }\n",
       "</style>\n",
       "<table border=\"1\" class=\"dataframe\">\n",
       "  <thead>\n",
       "    <tr style=\"text-align: right;\">\n",
       "      <th></th>\n",
       "      <th>lat</th>\n",
       "      <th>lon</th>\n",
       "      <th>Q</th>\n",
       "    </tr>\n",
       "  </thead>\n",
       "  <tbody>\n",
       "    <tr>\n",
       "      <th>0</th>\n",
       "      <td>33.17668</td>\n",
       "      <td>-84.85035</td>\n",
       "      <td>2.93000</td>\n",
       "    </tr>\n",
       "    <tr>\n",
       "      <th>1</th>\n",
       "      <td>33.17635</td>\n",
       "      <td>-84.84619</td>\n",
       "      <td>1.19000</td>\n",
       "    </tr>\n",
       "    <tr>\n",
       "      <th>2</th>\n",
       "      <td>33.17376</td>\n",
       "      <td>-84.84680</td>\n",
       "      <td>0.33600</td>\n",
       "    </tr>\n",
       "    <tr>\n",
       "      <th>3</th>\n",
       "      <td>33.17670</td>\n",
       "      <td>-84.85017</td>\n",
       "      <td>2.77700</td>\n",
       "    </tr>\n",
       "    <tr>\n",
       "      <th>4</th>\n",
       "      <td>33.17418</td>\n",
       "      <td>-84.84746</td>\n",
       "      <td>1.32700</td>\n",
       "    </tr>\n",
       "  </tbody>\n",
       "</table>\n",
       "</div>"
      ],
      "text/plain": [
       "       lat       lon       Q\n",
       "0 33.17668 -84.85035 2.93000\n",
       "1 33.17635 -84.84619 1.19000\n",
       "2 33.17376 -84.84680 0.33600\n",
       "3 33.17670 -84.85017 2.77700\n",
       "4 33.17418 -84.84746 1.32700"
      ]
     },
     "execution_count": 2,
     "metadata": {},
     "output_type": "execute_result"
    }
   ],
   "source": [
    "# Optimal solution found by Nizar\n",
    "sources_df = pd.read_csv(os.path.join(os.path.join(DATA, 'belhadjali_solution.csv')))\n",
    "sources_df.head()"
   ]
  },
  {
   "cell_type": "markdown",
   "id": "0ef822ff-3ee8-45da-a44a-e48c2ecb2909",
   "metadata": {},
   "source": [
    "Receptors:"
   ]
  },
  {
   "cell_type": "code",
   "execution_count": 3,
   "id": "0081dc86-ffde-4ad8-9afc-4404481b7ba5",
   "metadata": {},
   "outputs": [
    {
     "data": {
      "text/html": [
       "<div>\n",
       "<style scoped>\n",
       "    .dataframe tbody tr th:only-of-type {\n",
       "        vertical-align: middle;\n",
       "    }\n",
       "\n",
       "    .dataframe tbody tr th {\n",
       "        vertical-align: top;\n",
       "    }\n",
       "\n",
       "    .dataframe thead th {\n",
       "        text-align: right;\n",
       "    }\n",
       "</style>\n",
       "<table border=\"1\" class=\"dataframe\">\n",
       "  <thead>\n",
       "    <tr style=\"text-align: right;\">\n",
       "      <th></th>\n",
       "      <th>lat</th>\n",
       "      <th>lon</th>\n",
       "      <th>ch4_ppm</th>\n",
       "      <th>wind_speed_mph</th>\n",
       "      <th>wind_dir</th>\n",
       "    </tr>\n",
       "  </thead>\n",
       "  <tbody>\n",
       "    <tr>\n",
       "      <th>0</th>\n",
       "      <td>33.17880</td>\n",
       "      <td>-84.84681</td>\n",
       "      <td>23</td>\n",
       "      <td>5.62000</td>\n",
       "      <td>298</td>\n",
       "    </tr>\n",
       "    <tr>\n",
       "      <th>1</th>\n",
       "      <td>33.17373</td>\n",
       "      <td>-84.84712</td>\n",
       "      <td>22</td>\n",
       "      <td>7.96000</td>\n",
       "      <td>317</td>\n",
       "    </tr>\n",
       "    <tr>\n",
       "      <th>2</th>\n",
       "      <td>33.17373</td>\n",
       "      <td>-84.84711</td>\n",
       "      <td>24</td>\n",
       "      <td>7.96000</td>\n",
       "      <td>317</td>\n",
       "    </tr>\n",
       "    <tr>\n",
       "      <th>3</th>\n",
       "      <td>33.17372</td>\n",
       "      <td>-84.84710</td>\n",
       "      <td>27</td>\n",
       "      <td>7.79000</td>\n",
       "      <td>321</td>\n",
       "    </tr>\n",
       "    <tr>\n",
       "      <th>4</th>\n",
       "      <td>33.17371</td>\n",
       "      <td>-84.84706</td>\n",
       "      <td>29</td>\n",
       "      <td>7.68000</td>\n",
       "      <td>325</td>\n",
       "    </tr>\n",
       "  </tbody>\n",
       "</table>\n",
       "</div>"
      ],
      "text/plain": [
       "       lat       lon  ch4_ppm  wind_speed_mph  wind_dir\n",
       "0 33.17880 -84.84681       23         5.62000       298\n",
       "1 33.17373 -84.84712       22         7.96000       317\n",
       "2 33.17373 -84.84711       24         7.96000       317\n",
       "3 33.17372 -84.84710       27         7.79000       321\n",
       "4 33.17371 -84.84706       29         7.68000       325"
      ]
     },
     "execution_count": 3,
     "metadata": {},
     "output_type": "execute_result"
    }
   ],
   "source": [
    "receptors_df =  pd.read_csv(os.path.join(DATA, 'belhadjali_dem.csv'))\n",
    "receptors_df.head()"
   ]
  },
  {
   "cell_type": "markdown",
   "id": "6730827c-4b24-4733-864a-4ff4e58b5fc0",
   "metadata": {},
   "source": [
    "**Source receptor config:**"
   ]
  },
  {
   "cell_type": "code",
   "execution_count": 4,
   "id": "e59e0d0d-59e7-4029-aab5-26f89778db03",
   "metadata": {
    "tags": []
   },
   "outputs": [
    {
     "data": {
      "text/plain": [
       "<matplotlib.collections.PathCollection at 0x7fd22a2e5ff0>"
      ]
     },
     "execution_count": 4,
     "metadata": {},
     "output_type": "execute_result"
    },
    {
     "data": {
      "image/png": "[encoded data removed]",
      "text/plain": [
       "<Figure size 640x480 with 1 Axes>"
      ]
     },
     "metadata": {},
     "output_type": "display_data"
    }
   ],
   "source": [
    "fig, ax = plt.subplots()\n",
    "ax.scatter(receptors_df['lon'], receptors_df['lat'], c =\"blue\")\n",
    "ax.scatter(sources_df['lon'], sources_df['lat'], c =\"red\", marker =\"*\")\n",
    "\n",
    "# ax.scatter(opt, source[0], )"
   ]
  },
  {
   "cell_type": "markdown",
   "id": "886fd191-5bae-49eb-969a-a9bd3a993483",
   "metadata": {
    "tags": []
   },
   "source": [
    "## Process receptors data "
   ]
  },
  {
   "cell_type": "markdown",
   "id": "a054b1cb-a97a-48c2-8e8f-22c19aa343a0",
   "metadata": {},
   "source": [
    "Reproject to UTM:\n",
    "- https://epsg.io/32617"
   ]
  },
  {
   "cell_type": "code",
   "execution_count": 5,
   "id": "26aab0cc-8c27-4e84-bd47-2923d6567ef1",
   "metadata": {},
   "outputs": [],
   "source": [
    "receptors_df = utm_coordinates(receptors_df, 32617)"
   ]
  },
  {
   "cell_type": "markdown",
   "id": "ac03b5bb-671d-4bcf-9e41-724ee1bbcde9",
   "metadata": {},
   "source": [
    "PPM to $\\mu g/s$ conversion: \n",
    "\n",
    "Calculators:\n",
    " - https://www.gastec.co.jp/en/technology/knowledge/concentration/\n",
    " - https://www.lenntech.com/calculators/ppm/converter-parts-per-million.html\n",
    " - https://www.gasdetection.com/calculator/ppm_to_micrograms_per_cubic_meter.html\n",
    "\n",
    "Bel Hadj Ali's code:\n",
    "```\n",
    "convertppm = Pressure*16.04/(273.15+Temperature)/8.3144621;\n",
    "Data(:,3)= convertppm*Data(:,3);\n",
    "```"
   ]
  },
  {
   "cell_type": "code",
   "execution_count": 6,
   "id": "c5ba3f59-9765-4f10-a909-393626b639d3",
   "metadata": {},
   "outputs": [],
   "source": [
    "def ppm_to_mugm3_original(ppm, pressure = 1, temperature = 25):    \n",
    "    return ppm*(pressure*16.04/(273.15+temperature)/8.3144621)*1000\n",
    "\n",
    "# Simplified version \n",
    "def ppm_to_mugm3(ppm):\n",
    "    \"\"\"\n",
    "    https://teesing.com/en/library/tools/ppm-mg3-converter\n",
    "    \"\"\"\n",
    "    mgs = 0.0409*ppm*16.04\n",
    "    return mgs*1000\n",
    "\n",
    "receptors_df['ch4_mugm3'] = ppm_to_mugm3_original(receptors_df['ch4_ppm'])"
   ]
  },
  {
   "cell_type": "code",
   "execution_count": 7,
   "id": "a2245174-b4b6-40b7-834b-fb5750e754d7",
   "metadata": {},
   "outputs": [
    {
     "data": {
      "text/html": [
       "<div>\n",
       "<style scoped>\n",
       "    .dataframe tbody tr th:only-of-type {\n",
       "        vertical-align: middle;\n",
       "    }\n",
       "\n",
       "    .dataframe tbody tr th {\n",
       "        vertical-align: top;\n",
       "    }\n",
       "\n",
       "    .dataframe thead th {\n",
       "        text-align: right;\n",
       "    }\n",
       "</style>\n",
       "<table border=\"1\" class=\"dataframe\">\n",
       "  <thead>\n",
       "    <tr style=\"text-align: right;\">\n",
       "      <th></th>\n",
       "      <th>ch4_ppm</th>\n",
       "      <th>ch4_ppm</th>\n",
       "      <th>ch4_ppm</th>\n",
       "    </tr>\n",
       "  </thead>\n",
       "  <tbody>\n",
       "    <tr>\n",
       "      <th>0</th>\n",
       "      <td>23</td>\n",
       "      <td>148.82066</td>\n",
       "      <td>15088.82800</td>\n",
       "    </tr>\n",
       "    <tr>\n",
       "      <th>1</th>\n",
       "      <td>22</td>\n",
       "      <td>142.35020</td>\n",
       "      <td>14432.79200</td>\n",
       "    </tr>\n",
       "    <tr>\n",
       "      <th>2</th>\n",
       "      <td>24</td>\n",
       "      <td>155.29112</td>\n",
       "      <td>15744.86400</td>\n",
       "    </tr>\n",
       "    <tr>\n",
       "      <th>3</th>\n",
       "      <td>27</td>\n",
       "      <td>174.70251</td>\n",
       "      <td>17712.97200</td>\n",
       "    </tr>\n",
       "    <tr>\n",
       "      <th>4</th>\n",
       "      <td>29</td>\n",
       "      <td>187.64344</td>\n",
       "      <td>19025.04400</td>\n",
       "    </tr>\n",
       "  </tbody>\n",
       "</table>\n",
       "</div>"
      ],
      "text/plain": [
       "   ch4_ppm   ch4_ppm     ch4_ppm\n",
       "0       23 148.82066 15088.82800\n",
       "1       22 142.35020 14432.79200\n",
       "2       24 155.29112 15744.86400\n",
       "3       27 174.70251 17712.97200\n",
       "4       29 187.64344 19025.04400"
      ]
     },
     "execution_count": 7,
     "metadata": {},
     "output_type": "execute_result"
    }
   ],
   "source": [
    "pd.concat([receptors_df[['ch4_ppm']], ppm_to_mugm3_original(receptors_df[['ch4_ppm']].reset_index(drop=True)), ppm_to_mugm3(receptors_df[['ch4_ppm']])], axis = 1).head()"
   ]
  },
  {
   "cell_type": "markdown",
   "id": "279980d6-0bed-4e78-b65b-875b12ab9f37",
   "metadata": {},
   "source": [
    "Wind speed from mph to m/s:"
   ]
  },
  {
   "cell_type": "code",
   "execution_count": 8,
   "id": "1d086ec8-fb60-41bb-9314-30b4d25853d9",
   "metadata": {},
   "outputs": [],
   "source": [
    "def mph_to_ms(speed):\n",
    "    return 0.44704*speed\n",
    "\n",
    "receptors_df['wind_speed_ms'] = mph_to_ms(receptors_df['wind_speed_mph'])"
   ]
  },
  {
   "cell_type": "markdown",
   "id": "b7cd6923-1c89-4151-8c78-2532a75ddb3e",
   "metadata": {},
   "source": [
    "Set altitude to zero since this is surface emissions monitoring:"
   ]
  },
  {
   "cell_type": "code",
   "execution_count": 9,
   "id": "55173726-eea1-4c2d-aa87-72f73d1fa4de",
   "metadata": {},
   "outputs": [],
   "source": [
    "receptors_df['altitude'] = 0"
   ]
  },
  {
   "cell_type": "markdown",
   "id": "24db7168-a483-4fc3-8358-63dff3443ce3",
   "metadata": {},
   "source": [
    "**Check if it looks OK:**"
   ]
  },
  {
   "cell_type": "code",
   "execution_count": 10,
   "id": "6c6d97d5-34f9-4e48-be93-4419f07d57af",
   "metadata": {},
   "outputs": [
    {
     "data": {
      "text/html": [
       "<div>\n",
       "<style scoped>\n",
       "    .dataframe tbody tr th:only-of-type {\n",
       "        vertical-align: middle;\n",
       "    }\n",
       "\n",
       "    .dataframe tbody tr th {\n",
       "        vertical-align: top;\n",
       "    }\n",
       "\n",
       "    .dataframe thead th {\n",
       "        text-align: right;\n",
       "    }\n",
       "</style>\n",
       "<table border=\"1\" class=\"dataframe\">\n",
       "  <thead>\n",
       "    <tr style=\"text-align: right;\">\n",
       "      <th></th>\n",
       "      <th>lat</th>\n",
       "      <th>lon</th>\n",
       "      <th>ch4_ppm</th>\n",
       "      <th>wind_speed_mph</th>\n",
       "      <th>wind_dir</th>\n",
       "      <th>lat_utm</th>\n",
       "      <th>lon_utm</th>\n",
       "      <th>ch4_mugm3</th>\n",
       "      <th>wind_speed_ms</th>\n",
       "      <th>altitude</th>\n",
       "    </tr>\n",
       "  </thead>\n",
       "  <tbody>\n",
       "    <tr>\n",
       "      <th>0</th>\n",
       "      <td>33.17880</td>\n",
       "      <td>-84.84681</td>\n",
       "      <td>23</td>\n",
       "      <td>5.62000</td>\n",
       "      <td>298</td>\n",
       "      <td>3677705.68047</td>\n",
       "      <td>141264.81122</td>\n",
       "      <td>148.82066</td>\n",
       "      <td>2.51236</td>\n",
       "      <td>0</td>\n",
       "    </tr>\n",
       "    <tr>\n",
       "      <th>1</th>\n",
       "      <td>33.17373</td>\n",
       "      <td>-84.84712</td>\n",
       "      <td>22</td>\n",
       "      <td>7.96000</td>\n",
       "      <td>317</td>\n",
       "      <td>3677143.77224</td>\n",
       "      <td>141214.90627</td>\n",
       "      <td>142.35020</td>\n",
       "      <td>3.55844</td>\n",
       "      <td>0</td>\n",
       "    </tr>\n",
       "    <tr>\n",
       "      <th>2</th>\n",
       "      <td>33.17373</td>\n",
       "      <td>-84.84711</td>\n",
       "      <td>24</td>\n",
       "      <td>7.96000</td>\n",
       "      <td>317</td>\n",
       "      <td>3677143.32327</td>\n",
       "      <td>141215.60272</td>\n",
       "      <td>155.29112</td>\n",
       "      <td>3.55844</td>\n",
       "      <td>0</td>\n",
       "    </tr>\n",
       "    <tr>\n",
       "      <th>3</th>\n",
       "      <td>33.17372</td>\n",
       "      <td>-84.84710</td>\n",
       "      <td>27</td>\n",
       "      <td>7.79000</td>\n",
       "      <td>321</td>\n",
       "      <td>3677142.84698</td>\n",
       "      <td>141217.01115</td>\n",
       "      <td>174.70251</td>\n",
       "      <td>3.48244</td>\n",
       "      <td>0</td>\n",
       "    </tr>\n",
       "    <tr>\n",
       "      <th>4</th>\n",
       "      <td>33.17371</td>\n",
       "      <td>-84.84706</td>\n",
       "      <td>29</td>\n",
       "      <td>7.68000</td>\n",
       "      <td>325</td>\n",
       "      <td>3677141.02271</td>\n",
       "      <td>141220.50796</td>\n",
       "      <td>187.64344</td>\n",
       "      <td>3.43327</td>\n",
       "      <td>0</td>\n",
       "    </tr>\n",
       "  </tbody>\n",
       "</table>\n",
       "</div>"
      ],
      "text/plain": [
       "       lat       lon  ch4_ppm  wind_speed_mph  wind_dir       lat_utm  \\\n",
       "0 33.17880 -84.84681       23         5.62000       298 3677705.68047   \n",
       "1 33.17373 -84.84712       22         7.96000       317 3677143.77224   \n",
       "2 33.17373 -84.84711       24         7.96000       317 3677143.32327   \n",
       "3 33.17372 -84.84710       27         7.79000       321 3677142.84698   \n",
       "4 33.17371 -84.84706       29         7.68000       325 3677141.02271   \n",
       "\n",
       "       lon_utm  ch4_mugm3  wind_speed_ms  altitude  \n",
       "0 141264.81122  148.82066        2.51236         0  \n",
       "1 141214.90627  142.35020        3.55844         0  \n",
       "2 141215.60272  155.29112        3.55844         0  \n",
       "3 141217.01115  174.70251        3.48244         0  \n",
       "4 141220.50796  187.64344        3.43327         0  "
      ]
     },
     "execution_count": 10,
     "metadata": {},
     "output_type": "execute_result"
    }
   ],
   "source": [
    "receptors_df.head()"
   ]
  },
  {
   "cell_type": "markdown",
   "id": "f7dad340-b5d2-445a-a73d-991a0aefbf4a",
   "metadata": {
    "tags": []
   },
   "source": [
    "## Process sources data "
   ]
  },
  {
   "cell_type": "markdown",
   "id": "e5c5942b-d5ce-4256-b08b-07d79f119fcb",
   "metadata": {},
   "source": [
    "Reproject to UTM:\n",
    "- https://epsg.io/32617"
   ]
  },
  {
   "cell_type": "code",
   "execution_count": 11,
   "id": "efcbf195-f379-4096-b3d4-6ec16ec659b5",
   "metadata": {},
   "outputs": [],
   "source": [
    "sources_df = utm_coordinates(sources_df, 32617)"
   ]
  },
  {
   "cell_type": "markdown",
   "id": "be9a1de9-f899-4425-9295-ae52908f9ea4",
   "metadata": {},
   "source": [
    "Covnert from $g/s$ to $\\mu g/s$:"
   ]
  },
  {
   "cell_type": "code",
   "execution_count": 12,
   "id": "54699680-26d8-4d09-80b6-62b0175fdf83",
   "metadata": {},
   "outputs": [],
   "source": [
    "unit_converstion_factor = 10e6\n",
    "sources_df['Q_mugm3'] = sources_df['Q']*unit_converstion_factor"
   ]
  },
  {
   "cell_type": "code",
   "execution_count": 13,
   "id": "fe07d7b4-b464-4d5f-ae79-4f68a5c21428",
   "metadata": {},
   "outputs": [
    {
     "data": {
      "text/html": [
       "<div>\n",
       "<style scoped>\n",
       "    .dataframe tbody tr th:only-of-type {\n",
       "        vertical-align: middle;\n",
       "    }\n",
       "\n",
       "    .dataframe tbody tr th {\n",
       "        vertical-align: top;\n",
       "    }\n",
       "\n",
       "    .dataframe thead th {\n",
       "        text-align: right;\n",
       "    }\n",
       "</style>\n",
       "<table border=\"1\" class=\"dataframe\">\n",
       "  <thead>\n",
       "    <tr style=\"text-align: right;\">\n",
       "      <th></th>\n",
       "      <th>lat</th>\n",
       "      <th>lon</th>\n",
       "      <th>Q</th>\n",
       "      <th>lat_utm</th>\n",
       "      <th>lon_utm</th>\n",
       "      <th>Q_mugm3</th>\n",
       "    </tr>\n",
       "  </thead>\n",
       "  <tbody>\n",
       "    <tr>\n",
       "      <th>0</th>\n",
       "      <td>33.17668</td>\n",
       "      <td>-84.85035</td>\n",
       "      <td>2.93000</td>\n",
       "      <td>3677482.32274</td>\n",
       "      <td>140925.75571</td>\n",
       "      <td>29300000.00000</td>\n",
       "    </tr>\n",
       "    <tr>\n",
       "      <th>1</th>\n",
       "      <td>33.17635</td>\n",
       "      <td>-84.84619</td>\n",
       "      <td>1.19000</td>\n",
       "      <td>3677431.41537</td>\n",
       "      <td>141312.59536</td>\n",
       "      <td>11900000.00000</td>\n",
       "    </tr>\n",
       "    <tr>\n",
       "      <th>2</th>\n",
       "      <td>33.17376</td>\n",
       "      <td>-84.84680</td>\n",
       "      <td>0.33600</td>\n",
       "      <td>3677146.11252</td>\n",
       "      <td>141245.09896</td>\n",
       "      <td>3360000.00000</td>\n",
       "    </tr>\n",
       "    <tr>\n",
       "      <th>3</th>\n",
       "      <td>33.17670</td>\n",
       "      <td>-84.85017</td>\n",
       "      <td>2.77700</td>\n",
       "      <td>3677483.92342</td>\n",
       "      <td>140942.63401</td>\n",
       "      <td>27770000.00000</td>\n",
       "    </tr>\n",
       "    <tr>\n",
       "      <th>4</th>\n",
       "      <td>33.17418</td>\n",
       "      <td>-84.84746</td>\n",
       "      <td>1.32700</td>\n",
       "      <td>3677194.98374</td>\n",
       "      <td>141185.22465</td>\n",
       "      <td>13270000.00000</td>\n",
       "    </tr>\n",
       "  </tbody>\n",
       "</table>\n",
       "</div>"
      ],
      "text/plain": [
       "       lat       lon       Q       lat_utm      lon_utm        Q_mugm3\n",
       "0 33.17668 -84.85035 2.93000 3677482.32274 140925.75571 29300000.00000\n",
       "1 33.17635 -84.84619 1.19000 3677431.41537 141312.59536 11900000.00000\n",
       "2 33.17376 -84.84680 0.33600 3677146.11252 141245.09896  3360000.00000\n",
       "3 33.17670 -84.85017 2.77700 3677483.92342 140942.63401 27770000.00000\n",
       "4 33.17418 -84.84746 1.32700 3677194.98374 141185.22465 13270000.00000"
      ]
     },
     "execution_count": 13,
     "metadata": {},
     "output_type": "execute_result"
    }
   ],
   "source": [
    "sources_df.head()"
   ]
  },
  {
   "cell_type": "markdown",
   "id": "ac868c8a-1f52-4c56-bd3b-b79fc7aa23a3",
   "metadata": {},
   "source": [
    "## Simplify data\n",
    "- Restrict to a 5 sources and 2 receptors \n",
    "- Reason to believe these are the only sources relevant for these receptors"
   ]
  },
  {
   "cell_type": "code",
   "execution_count": 14,
   "id": "4d9dded5-e921-42c2-9a58-5d627439374e",
   "metadata": {},
   "outputs": [],
   "source": [
    "sources_list = [16,4,17,9,5]\n",
    "receptors_list = [4, 27]"
   ]
  },
  {
   "cell_type": "code",
   "execution_count": 15,
   "id": "f390e25c-5a7a-4e59-a78b-a18c760a5de1",
   "metadata": {
    "tags": []
   },
   "outputs": [
    {
     "data": {
      "text/html": [
       "<div>\n",
       "<style scoped>\n",
       "    .dataframe tbody tr th:only-of-type {\n",
       "        vertical-align: middle;\n",
       "    }\n",
       "\n",
       "    .dataframe tbody tr th {\n",
       "        vertical-align: top;\n",
       "    }\n",
       "\n",
       "    .dataframe thead th {\n",
       "        text-align: right;\n",
       "    }\n",
       "</style>\n",
       "<table border=\"1\" class=\"dataframe\">\n",
       "  <thead>\n",
       "    <tr style=\"text-align: right;\">\n",
       "      <th></th>\n",
       "      <th>lat_utm</th>\n",
       "      <th>lon_utm</th>\n",
       "      <th>Q_mugm3</th>\n",
       "    </tr>\n",
       "  </thead>\n",
       "  <tbody>\n",
       "    <tr>\n",
       "      <th>16</th>\n",
       "      <td>3677174.10659</td>\n",
       "      <td>141178.84977</td>\n",
       "      <td>24460000.00000</td>\n",
       "    </tr>\n",
       "    <tr>\n",
       "      <th>4</th>\n",
       "      <td>3677194.98374</td>\n",
       "      <td>141185.22465</td>\n",
       "      <td>13270000.00000</td>\n",
       "    </tr>\n",
       "    <tr>\n",
       "      <th>17</th>\n",
       "      <td>3677224.86748</td>\n",
       "      <td>141067.65182</td>\n",
       "      <td>1960000.00000</td>\n",
       "    </tr>\n",
       "    <tr>\n",
       "      <th>9</th>\n",
       "      <td>3677166.46865</td>\n",
       "      <td>141054.28881</td>\n",
       "      <td>19940000.00000</td>\n",
       "    </tr>\n",
       "    <tr>\n",
       "      <th>5</th>\n",
       "      <td>3677377.22583</td>\n",
       "      <td>140943.37665</td>\n",
       "      <td>21090000.00000</td>\n",
       "    </tr>\n",
       "  </tbody>\n",
       "</table>\n",
       "</div>"
      ],
      "text/plain": [
       "         lat_utm      lon_utm        Q_mugm3\n",
       "16 3677174.10659 141178.84977 24460000.00000\n",
       "4  3677194.98374 141185.22465 13270000.00000\n",
       "17 3677224.86748 141067.65182  1960000.00000\n",
       "9  3677166.46865 141054.28881 19940000.00000\n",
       "5  3677377.22583 140943.37665 21090000.00000"
      ]
     },
     "execution_count": 15,
     "metadata": {},
     "output_type": "execute_result"
    }
   ],
   "source": [
    "sources_df_smp = sources_df[[\"lat_utm\", \"lon_utm\", \"Q_mugm3\"]]\n",
    "sources_df_smp = sources_df_smp.iloc[sources_list]\n",
    "sources = sources_df_smp.to_numpy()\n",
    "# sources\n",
    "sources_df_smp"
   ]
  },
  {
   "cell_type": "code",
   "execution_count": 16,
   "id": "398a1b2e-6fd6-48c9-a9f7-617a53ec6719",
   "metadata": {},
   "outputs": [
    {
     "data": {
      "text/html": [
       "<div>\n",
       "<style scoped>\n",
       "    .dataframe tbody tr th:only-of-type {\n",
       "        vertical-align: middle;\n",
       "    }\n",
       "\n",
       "    .dataframe tbody tr th {\n",
       "        vertical-align: top;\n",
       "    }\n",
       "\n",
       "    .dataframe thead th {\n",
       "        text-align: right;\n",
       "    }\n",
       "</style>\n",
       "<table border=\"1\" class=\"dataframe\">\n",
       "  <thead>\n",
       "    <tr style=\"text-align: right;\">\n",
       "      <th></th>\n",
       "      <th>lat_utm</th>\n",
       "      <th>lon_utm</th>\n",
       "      <th>altitude</th>\n",
       "      <th>wind_speed_ms</th>\n",
       "      <th>wind_dir</th>\n",
       "      <th>ch4_mugm3</th>\n",
       "    </tr>\n",
       "  </thead>\n",
       "  <tbody>\n",
       "    <tr>\n",
       "      <th>4</th>\n",
       "      <td>3677141.02271</td>\n",
       "      <td>141220.50796</td>\n",
       "      <td>0</td>\n",
       "      <td>3.43327</td>\n",
       "      <td>325</td>\n",
       "      <td>187.64344</td>\n",
       "    </tr>\n",
       "    <tr>\n",
       "      <th>27</th>\n",
       "      <td>3677133.27767</td>\n",
       "      <td>141235.19452</td>\n",
       "      <td>0</td>\n",
       "      <td>3.66573</td>\n",
       "      <td>322</td>\n",
       "      <td>51.76371</td>\n",
       "    </tr>\n",
       "  </tbody>\n",
       "</table>\n",
       "</div>"
      ],
      "text/plain": [
       "         lat_utm      lon_utm  altitude  wind_speed_ms  wind_dir  ch4_mugm3\n",
       "4  3677141.02271 141220.50796         0        3.43327       325  187.64344\n",
       "27 3677133.27767 141235.19452         0        3.66573       322   51.76371"
      ]
     },
     "execution_count": 16,
     "metadata": {},
     "output_type": "execute_result"
    }
   ],
   "source": [
    "receptors_df_smp = receptors_df[['lat_utm', 'lon_utm', 'altitude', 'wind_speed_ms', 'wind_dir', 'ch4_mugm3']]\n",
    "receptors_df_smp = receptors_df_smp.iloc[receptors_list]\n",
    "receptors = receptors_df_smp.to_numpy()\n",
    "# receptors\n",
    "receptors_df_smp"
   ]
  },
  {
   "cell_type": "markdown",
   "id": "51f11d30-dabc-4ffa-a05a-a8629ef6652b",
   "metadata": {},
   "source": [
    "Config"
   ]
  },
  {
   "cell_type": "code",
   "execution_count": 17,
   "id": "1a105e85-e7a2-4fe3-acc8-fdeddeb06783",
   "metadata": {
    "jupyter": {
     "source_hidden": true
    },
    "tags": []
   },
   "outputs": [
    {
     "data": {
      "text/html": [
       "<div class=\"row\">\n",
       "  <div class=\"column\">\n",
       "    <img src=\"img/winddir.png\" alt=\"Snow\" style=\"float: left; width: 150px\">\n",
       "  </div>\n",
       "  <div class=\"column\">\n",
       "    <img src=\"img/config-zout2.png\" alt=\"Snow\" style=\"float: left; width: 500px\">\n",
       "  </div>\n",
       "  <div class=\"column\">\n",
       "    <img src=\"img/config-zin2.png\" alt=\"Snow\" style=\"float: right; width: 500px\">\n",
       "  </div>\n",
       "</div>\n"
      ],
      "text/plain": [
       "<IPython.core.display.HTML object>"
      ]
     },
     "metadata": {},
     "output_type": "display_data"
    }
   ],
   "source": [
    "%%html\n",
    "<div class=\"row\">\n",
    "  <div class=\"column\">\n",
    "    <img src=\"img/winddir.png\" alt=\"Snow\" style=\"float: left; width: 150px\">\n",
    "  </div>\n",
    "  <div class=\"column\">\n",
    "    <img src=\"img/config-zout2.png\" alt=\"Snow\" style=\"float: left; width: 500px\">\n",
    "  </div>\n",
    "  <div class=\"column\">\n",
    "    <img src=\"img/config-zin2.png\" alt=\"Snow\" style=\"float: right; width: 500px\">\n",
    "  </div>\n",
    "</div>"
   ]
  },
  {
   "cell_type": "markdown",
   "id": "ff7f78ac-f961-483e-b288-f79198c368d5",
   "metadata": {},
   "source": [
    "## Gas dispersion model -  Single source (16)\n",
    "- How a single source (closest) affects both receptors."
   ]
  },
  {
   "cell_type": "markdown",
   "id": "c5c0ebb7-50dd-4250-8c01-86422f3dc8b2",
   "metadata": {},
   "source": [
    "Model parameters"
   ]
  },
  {
   "cell_type": "code",
   "execution_count": 18,
   "id": "40055e5b-605e-4698-81e4-335cd6fa672c",
   "metadata": {},
   "outputs": [],
   "source": [
    "source = sources[0]\n",
    "wind_speed = receptors[:,3]\n",
    "wind_dir = receptors[:,4]\n",
    "receptors_coords = receptors[:,0:2]\n",
    "source_coordinates = source[0:2]"
   ]
  },
  {
   "cell_type": "markdown",
   "id": "a6ef46df-c2b4-4628-b1c7-d5bc16decf51",
   "metadata": {},
   "source": [
    "Calculate distance between points:"
   ]
  },
  {
   "cell_type": "code",
   "execution_count": 19,
   "id": "bda2fe77-9f13-4f22-99c7-8b7cefa88444",
   "metadata": {},
   "outputs": [
    {
     "data": {
      "text/plain": [
       "array([53.19725027, 69.58255176])"
      ]
     },
     "execution_count": 19,
     "metadata": {},
     "output_type": "execute_result"
    }
   ],
   "source": [
    "distances = gas.eucl_dist(receptors_coords, source_coordinates) # OK\n",
    "distances"
   ]
  },
  {
   "cell_type": "markdown",
   "id": "53ab0855-97e2-4022-90be-bb62bc12c1ae",
   "metadata": {},
   "source": [
    "Angle with the wind:"
   ]
  },
  {
   "cell_type": "code",
   "execution_count": 20,
   "id": "605c0b79-77f3-47bd-afa1-c955bf629ae9",
   "metadata": {},
   "outputs": [
    {
     "data": {
      "text/plain": [
       "array([16.54428826, 16.07190193])"
      ]
     },
     "execution_count": 20,
     "metadata": {},
     "output_type": "execute_result"
    }
   ],
   "source": [
    "up = gas.up_wind_point(receptors, True)\n",
    "beta = gas.calc_angle(receptors_coords, source_coordinates, up)\n",
    "beta\n"
   ]
  },
  {
   "cell_type": "markdown",
   "id": "f233a2eb-6ebf-4d1c-9de0-32d4b20a9424",
   "metadata": {
    "tags": []
   },
   "source": [
    "Along and across wind distances:"
   ]
  },
  {
   "cell_type": "code",
   "execution_count": 21,
   "id": "95100e8f-0517-4a82-aabe-30562ecad2e5",
   "metadata": {},
   "outputs": [
    {
     "data": {
      "text/plain": [
       "(array([50.99487939, 66.86292014]),\n",
       " array([15.14825771, 19.2634737 ]),\n",
       " array([0., 0.]))"
      ]
     },
     "execution_count": 21,
     "metadata": {},
     "output_type": "execute_result"
    }
   ],
   "source": [
    "x,y = gas.calc_wind_distances(distances, beta, wind_dir)\n",
    "z = receptors[:,2]\n",
    "x,y,z"
   ]
  },
  {
   "cell_type": "markdown",
   "id": "9e52ee55-d2ae-483e-906d-c0acc070922f",
   "metadata": {},
   "source": [
    "Dispersion model:\n",
    "- Using stability class A for simplicity.\n",
    "- Tried all of the other ones multiple times."
   ]
  },
  {
   "cell_type": "code",
   "execution_count": 22,
   "id": "581c0a71-03d9-4f5f-8a78-30fad9cefaf3",
   "metadata": {},
   "outputs": [],
   "source": [
    "def dispersion_model(x, y, z, source, wind_speed, stability_cass = 'A'):\n",
    "\n",
    "    H = 0.\n",
    "    \n",
    "    # Wind speed\n",
    "    u = wind_speed.copy()\n",
    "    \n",
    "    # Source emissions\n",
    "    Q = source[-1]\n",
    "\n",
    "    if stability_cass == 'A':\n",
    "        sy = 0.22*x*(1+0.0001*x)**(-.5)\n",
    "        sz = 0.2*x\n",
    "    elif stability_cass == 'B':\n",
    "        sy = 0.16*x*(1+0.0001*x)**(-.5)\n",
    "        sz = 0.12*x\n",
    "    elif stability_cass == 'C':\n",
    "        sy = 0.11*x*(1+0.0001*x)**(-.5)\n",
    "        sz = 0.08*x*(1+0.0002*x)**(-.5)\n",
    "    elif stability_cass == 'D':\n",
    "        sy = 0.08*x*(1+0.0001*x)**(-.5)\n",
    "        sz = 0.06*x*(1+0.0015*x)**(-.5)\n",
    "        \n",
    "    # C = (Q/(math.pi*u*sy*sz)) * math.exp((-1/2)*(y/sy**2))\n",
    "    C = (Q/(2*math.pi*u*sy*sz)) * np.exp((-1/2)*(y**2/sy**2)) *(\n",
    "         np.exp((-1/2)*((z-H)**2)/sz) +\n",
    "         np.exp((-1/2)*((z+H)**2)/sz) \n",
    "        ) \n",
    "    \n",
    "    # return C.reshape(len(C),1)\n",
    "    return C"
   ]
  },
  {
   "cell_type": "code",
   "execution_count": 23,
   "id": "3ff43b71-7d7e-4a71-aee0-5ea796137503",
   "metadata": {
    "tags": []
   },
   "outputs": [
    {
     "data": {
      "text/plain": [
       "array([7948.45582998, 4569.64002668])"
      ]
     },
     "execution_count": 23,
     "metadata": {},
     "output_type": "execute_result"
    }
   ],
   "source": [
    "dispersion_model(x, y, z, source, wind_speed, 'A')"
   ]
  },
  {
   "cell_type": "markdown",
   "id": "39ae77fb-fc6e-4eeb-b67a-cfe1ba943e0c",
   "metadata": {
    "tags": []
   },
   "source": [
    "## Gas dispersion model -  All sources\n",
    "- Do the exact same process in a loop"
   ]
  },
  {
   "cell_type": "code",
   "execution_count": 24,
   "id": "f619d89d-9930-442f-b999-79936cfd5395",
   "metadata": {},
   "outputs": [],
   "source": [
    "def receptor_source_loop(receptors, sources, stability_cass = 'A', era_standard = True):\n",
    "    wind_speed = receptors[:,3]\n",
    "    wind_dir = receptors[:,4]\n",
    "    receptors_coords = receptors[:,0:2]\n",
    "    \n",
    "    c_pred_matrix = []\n",
    "    for source in sources:\n",
    "        # print(f'Source: {source}')\n",
    "        source_coordinates = source[0:2]\n",
    "        \n",
    "        # Euclidian distance or Hypotenuse\n",
    "        distances = gas.eucl_dist(receptors_coords, source_coordinates)\n",
    "        \n",
    "        # Line slope angle\n",
    "        upwind_pt = gas.up_wind_point(receptors, era_standard)\n",
    "        beta = gas.calc_angle(receptors_coords, source_coordinates, upwind_pt)\n",
    "        \n",
    "        # Distances relative to the wind\n",
    "        x,y = gas.calc_wind_distances(distances, beta, wind_dir)\n",
    "        z = receptors[:,2]\n",
    "        \n",
    "        cj = dispersion_model(x, y, z, source, wind_speed, stability_cass)\n",
    "        # c_pred_matrix = np.concatenate((c_pred_matrix,[cj]),axis=0)\n",
    "        c_pred_matrix.append(cj)\n",
    "        \n",
    "    # return np.stack(c_pred_matrix, axis=1)\n",
    "    return c_pred_matrix\n"
   ]
  },
  {
   "cell_type": "code",
   "execution_count": 25,
   "id": "9a0ba343-573b-4ac8-b435-74cd783bfe20",
   "metadata": {},
   "outputs": [
    {
     "data": {
      "text/html": [
       "<div>\n",
       "<style scoped>\n",
       "    .dataframe tbody tr th:only-of-type {\n",
       "        vertical-align: middle;\n",
       "    }\n",
       "\n",
       "    .dataframe tbody tr th {\n",
       "        vertical-align: top;\n",
       "    }\n",
       "\n",
       "    .dataframe thead th {\n",
       "        text-align: right;\n",
       "    }\n",
       "</style>\n",
       "<table border=\"1\" class=\"dataframe\">\n",
       "  <thead>\n",
       "    <tr style=\"text-align: right;\">\n",
       "      <th></th>\n",
       "      <th>4</th>\n",
       "      <th>27</th>\n",
       "    </tr>\n",
       "  </thead>\n",
       "  <tbody>\n",
       "    <tr>\n",
       "      <th>16</th>\n",
       "      <td>7948.45583</td>\n",
       "      <td>4569.64003</td>\n",
       "    </tr>\n",
       "    <tr>\n",
       "      <th>4</th>\n",
       "      <td>6684.70887</td>\n",
       "      <td>4158.32609</td>\n",
       "    </tr>\n",
       "    <tr>\n",
       "      <th>17</th>\n",
       "      <td>13.25920</td>\n",
       "      <td>17.94415</td>\n",
       "    </tr>\n",
       "    <tr>\n",
       "      <th>9</th>\n",
       "      <td>0.03365</td>\n",
       "      <td>0.54332</td>\n",
       "    </tr>\n",
       "    <tr>\n",
       "      <th>5</th>\n",
       "      <td>176.94522</td>\n",
       "      <td>187.20982</td>\n",
       "    </tr>\n",
       "  </tbody>\n",
       "</table>\n",
       "</div>"
      ],
      "text/plain": [
       "            4         27\n",
       "16 7948.45583 4569.64003\n",
       "4  6684.70887 4158.32609\n",
       "17   13.25920   17.94415\n",
       "9     0.03365    0.54332\n",
       "5   176.94522  187.20982"
      ]
     },
     "execution_count": 25,
     "metadata": {},
     "output_type": "execute_result"
    }
   ],
   "source": [
    "concentrations_df = pd.DataFrame(receptor_source_loop(receptors, sources), \n",
    "                                 columns = [str(i) for i in receptors_list], \n",
    "                                 index = sources_list)\n",
    "concentrations_df"
   ]
  },
  {
   "cell_type": "markdown",
   "id": "1bbe5460-9f19-4fcc-a924-bfe231613c75",
   "metadata": {
    "tags": []
   },
   "source": [
    "## Concentration disparity (???)"
   ]
  },
  {
   "cell_type": "code",
   "execution_count": 26,
   "id": "d576b19d-68c6-4554-a423-d376d02d0ea1",
   "metadata": {},
   "outputs": [
    {
     "data": {
      "text/plain": [
       "4    14823.40277\n",
       "27    8933.66340\n",
       "dtype: float64"
      ]
     },
     "execution_count": 26,
     "metadata": {},
     "output_type": "execute_result"
    }
   ],
   "source": [
    "concentrations_df.sum()"
   ]
  },
  {
   "cell_type": "code",
   "execution_count": 27,
   "id": "580162cc-8be6-4258-a4ce-248cec88a515",
   "metadata": {},
   "outputs": [
    {
     "data": {
      "text/html": [
       "<div>\n",
       "<style scoped>\n",
       "    .dataframe tbody tr th:only-of-type {\n",
       "        vertical-align: middle;\n",
       "    }\n",
       "\n",
       "    .dataframe tbody tr th {\n",
       "        vertical-align: top;\n",
       "    }\n",
       "\n",
       "    .dataframe thead th {\n",
       "        text-align: right;\n",
       "    }\n",
       "</style>\n",
       "<table border=\"1\" class=\"dataframe\">\n",
       "  <thead>\n",
       "    <tr style=\"text-align: right;\">\n",
       "      <th></th>\n",
       "      <th>ch4_mugm3</th>\n",
       "    </tr>\n",
       "  </thead>\n",
       "  <tbody>\n",
       "    <tr>\n",
       "      <th>4</th>\n",
       "      <td>187.64344</td>\n",
       "    </tr>\n",
       "    <tr>\n",
       "      <th>27</th>\n",
       "      <td>51.76371</td>\n",
       "    </tr>\n",
       "  </tbody>\n",
       "</table>\n",
       "</div>"
      ],
      "text/plain": [
       "    ch4_mugm3\n",
       "4   187.64344\n",
       "27   51.76371"
      ]
     },
     "execution_count": 27,
     "metadata": {},
     "output_type": "execute_result"
    }
   ],
   "source": [
    "receptors_df_smp[['ch4_mugm3']]"
   ]
  },
  {
   "cell_type": "markdown",
   "id": "b480e5bd-ba93-44d2-ba0a-2c67baca9308",
   "metadata": {},
   "source": [
    "## Fitness function"
   ]
  },
  {
   "cell_type": "code",
   "execution_count": 28,
   "id": "d49533a4-3003-4b27-9058-97d53729ef7d",
   "metadata": {},
   "outputs": [],
   "source": [
    "observed = receptors_df[['ch4_mugm3']].to_numpy()\n",
    "# observed"
   ]
  },
  {
   "cell_type": "code",
   "execution_count": 45,
   "id": "cd3ac29e-18ab-47d2-b3f8-c39cef8edf3e",
   "metadata": {},
   "outputs": [],
   "source": [
    "# observed = receptors[:,-1]\n",
    "    \n",
    "def fitness_function(solution, solution_index, stability_cass = 'A', era_standard = True):\n",
    "    \n",
    "    sources_array = np.reshape(solution, (-1, 3))\n",
    "    \n",
    "    # Gas dispersion model simulation\n",
    "    predicted = gas.gas_concentration_predict(receptors, sources_array, stability_cass, era_standard)\n",
    "    \n",
    "    # fitness = 1.0/(((predicted - observed)**2).sum()/(observed**2).sum())\n",
    "    # fitness = 1.0/(((predicted - observed)**2).sum())\n",
    "    fitness =  np.linalg.norm(predicted - observed)/np.linalg.norm(observed)\n",
    "    return fitness"
   ]
  },
  {
   "cell_type": "markdown",
   "id": "e19b5f66-7c0c-4547-8cd2-aa723de4134e",
   "metadata": {},
   "source": [
    "Use for full solution"
   ]
  },
  {
   "cell_type": "code",
   "execution_count": 46,
   "id": "7845a389-e8f5-4da8-ac3a-568ee5857383",
   "metadata": {},
   "outputs": [
    {
     "data": {
      "text/plain": [
       "34.9066819005335"
      ]
     },
     "execution_count": 46,
     "metadata": {},
     "output_type": "execute_result"
    }
   ],
   "source": [
    "solution = sources_df[[\"lat_utm\", \"lon_utm\", \"Q_mugm3\"]].to_numpy()\n",
    "fitness_function(solution, 1)"
   ]
  }
 ],
 "metadata": {
  "kernelspec": {
   "display_name": "Python 3 (ipykernel)",
   "language": "python",
   "name": "python3"
  },
  "language_info": {
   "codemirror_mode": {
    "name": "ipython",
    "version": 3
   },
   "file_extension": ".py",
   "mimetype": "text/x-python",
   "name": "python",
   "nbconvert_exporter": "python",
   "pygments_lexer": "ipython3",
   "version": "3.10.6"
  }
 },
 "nbformat": 4,
 "nbformat_minor": 5
}
